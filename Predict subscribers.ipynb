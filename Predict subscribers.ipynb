{
 "cells": [
  {
   "cell_type": "markdown",
   "id": "dac55519",
   "metadata": {},
   "source": [
    "# Case Study: Predict if the client will subscribe to a term product\n",
    "\n",
    "November 2022 <br>\n",
    "Fatih Catpinar"
   ]
  },
  {
   "cell_type": "markdown",
   "id": "e4ddd926",
   "metadata": {},
   "source": [
    "The aim of the project is to review the dataset, explore it and use machine learning and visualizations to help the marketing team to predict if the client will subscribe to a term product. This prediction model will help marketing to better customers for campaigns to increase sales."
   ]
  },
  {
   "cell_type": "markdown",
   "id": "e110fa87",
   "metadata": {},
   "source": [
    "#### Attribute Information:\n",
    "\n",
    "Input variables: <br>\n",
    "data that is specific to each client: <br>\n",
    "1 - age: numeric <br>\n",
    "2 - job: type of job (categorical: 'admin.','blue-collar','entrepreneur','housemaid','management','retired','self-employed','services','student','technician','unemployed','unknown') <br>\n",
    "3 - marital: marital status (categorical: 'divorced','married','single','unknown'; note: 'divorced' means divorced or widowed) <br> \n",
    "4 - education (categorical: 'basic.4y','basic.6y','basic.9y','high.school','illiterate','professional.course','university.degree','unknown') <br>\n",
    "5 - default: has credit in default? (categorical: 'no','yes','unknown') <br>\n",
    "6 - housing: has housing loan? (categorical: 'no','yes','unknown') <br>\n",
    "7 - loan: has personal loan? (categorical: 'no','yes','unknown') <br>\n",
    "\n",
    "related with the last contact of the current campaign: <br>\n",
    "8 - contact: contact communication type (categorical: 'cellular','telephone') <br>\n",
    "9 - month: last contact month of year (categorical: 'jan', 'feb', 'mar', ..., 'nov', 'dec') <br>\n",
    "10 - day_of_week: last contact day of the week (categorical: 'mon','tue','wed','thu','fri') <br>\n",
    "11 - duration: last contact duration, in seconds (numeric). Important note: this attribute highly affects the output target (e.g., if duration=0 then y='no'). Yet, the duration is not known before a call is performed. Also, after the end of the call, y is obviously known. Thus, this input should only be included for benchmark purposes and should be discarded if the intention is to have a realistic predictive model.\n",
    "Data that is not client specific: <br>\n",
    "12 - campaign: number of contacts performed during this campaign and for this client (numeric, includes last contact)<br> \n",
    "13 - pdays: number of days that passed by after the client was last contacted from a previous campaign (numeric; 999 means client was not previously contacted) <br>\n",
    "14 - previous: number of contacts performed before this campaign and for this client (numeric) <br>\n",
    "15 - poutcome: outcome of the previous marketing campaign (categorical: 'failure','nonexistent','success') <br>\n",
    "\n",
    "social and economic context attributes: <br>\n",
    "16 - emp.var.rate: employment variation rate - quarterly indicator (numeric) <br>\n",
    "17 - cons.price.idx: consumer price index - monthly indicator (numeric) <br>\n",
    "18 - cons.conf.idx: consumer confidence index - monthly indicator (numeric) <br>\n",
    "19 - euribor3m: euribor 3 month rate - daily indicator (numeric) <br>\n",
    "20 - nr.employed: number of employees - quarterly indicator (numeric) <br>\n",
    "\n",
    "Output variable (desired target): <br>\n",
    "21 - y: has the client subscribed a term deposit? (binary: 'yes','no')"
   ]
  },
  {
   "cell_type": "markdown",
   "id": "2fc7a8de",
   "metadata": {},
   "source": [
    "## Table of contents\n",
    "1. [Explore and clean the data](#explore) <br>\n",
    "    1.1. [Handle duplicates](#1.1) <br>\n",
    "    1.2. [Check for duplicated columns](#1.2) <br>\n",
    "    1.3. [Check missing values](#1.3) <br>\n",
    "    1.4. [Explore target variable](#1.4) <br>\n",
    "    1.5. [Explore features](#1.5) <br>\n",
    "2. [Process the data](#process) <br>\n",
    "    2.1 [Handle missing values for cons.price.idx](#2.1) <br>\n",
    "    2.2 [One hot encode categorical data](#2.2) <br>\n",
    "    2.3 [Drop 'duration' column](#2.3) <br>\n",
    "    2.4 [Change 'pdays' columns to 1 and 0](#2.4) <br>\n",
    "    2.5 [Dummy code y column](#2.5) <br>\n",
    "    2.6 [Split the data](#2.6) <br>\n",
    "    2.7 [Handle unbalanced data](#2.7) <br>\n",
    "3. [Create models](#model) <br>\n",
    "    3.1 [Logistic Regression](#3.1) <br>\n",
    "    3.2 [Random Forest](#3.2) <br>\n",
    "4. [Conclusion](#conclusion) <br>"
   ]
  },
  {
   "cell_type": "code",
   "execution_count": 1,
   "id": "1a3a2f0b",
   "metadata": {},
   "outputs": [],
   "source": [
    "import pandas as pd\n",
    "import numpy as np\n",
    "import math\n",
    "\n",
    "import matplotlib.pyplot as plt\n",
    "import plotly.express as px\n",
    "import seaborn as sns\n",
    "\n",
    "from sklearn.model_selection import train_test_split\n",
    "from sklearn.metrics import roc_auc_score\n",
    "from sklearn.metrics import roc_curve\n",
    "\n",
    "from sklearn.ensemble import RandomForestClassifier\n",
    "from sklearn.linear_model import LogisticRegression\n",
    "\n",
    "from sklearn.metrics import confusion_matrix\n",
    "\n",
    "from imblearn.over_sampling import SMOTE"
   ]
  },
  {
   "cell_type": "markdown",
   "id": "4148164f",
   "metadata": {},
   "source": [
    "## 1. Explore and clean the data <a name=\"explore\"></a>"
   ]
  },
  {
   "cell_type": "markdown",
   "id": "2011c17a",
   "metadata": {},
   "source": [
    "The first step is going to be to load the data and explore. Before we do more analyses and create classification models, we need to understand the data and make sure there is no incorrect, corrupted, incorrectly formatted, duplicate, or incomplete data within a dataset. We will check if the data has duplicate information, or has any missing values."
   ]
  },
  {
   "cell_type": "code",
   "execution_count": 2,
   "id": "99680379",
   "metadata": {},
   "outputs": [],
   "source": [
    "df = pd.read_csv('Case Study Data.csv')"
   ]
  },
  {
   "cell_type": "code",
   "execution_count": 3,
   "id": "d963e3f5",
   "metadata": {},
   "outputs": [
    {
     "data": {
      "text/html": [
       "<div>\n",
       "<style scoped>\n",
       "    .dataframe tbody tr th:only-of-type {\n",
       "        vertical-align: middle;\n",
       "    }\n",
       "\n",
       "    .dataframe tbody tr th {\n",
       "        vertical-align: top;\n",
       "    }\n",
       "\n",
       "    .dataframe thead th {\n",
       "        text-align: right;\n",
       "    }\n",
       "</style>\n",
       "<table border=\"1\" class=\"dataframe\">\n",
       "  <thead>\n",
       "    <tr style=\"text-align: right;\">\n",
       "      <th></th>\n",
       "      <th>age</th>\n",
       "      <th>job</th>\n",
       "      <th>marital</th>\n",
       "      <th>education</th>\n",
       "      <th>default</th>\n",
       "      <th>housing</th>\n",
       "      <th>loan</th>\n",
       "      <th>contact</th>\n",
       "      <th>month</th>\n",
       "      <th>day_of_week</th>\n",
       "      <th>...</th>\n",
       "      <th>campaign</th>\n",
       "      <th>pdays</th>\n",
       "      <th>previous</th>\n",
       "      <th>poutcome</th>\n",
       "      <th>emp.var.rate</th>\n",
       "      <th>cons.price.idx</th>\n",
       "      <th>cons.conf.idx</th>\n",
       "      <th>euribor3m</th>\n",
       "      <th>nr.employed</th>\n",
       "      <th>y</th>\n",
       "    </tr>\n",
       "  </thead>\n",
       "  <tbody>\n",
       "    <tr>\n",
       "      <th>0</th>\n",
       "      <td>56.0</td>\n",
       "      <td>housemaid</td>\n",
       "      <td>married</td>\n",
       "      <td>basic.4y</td>\n",
       "      <td>no</td>\n",
       "      <td>no</td>\n",
       "      <td>no</td>\n",
       "      <td>telephone</td>\n",
       "      <td>may</td>\n",
       "      <td>mon</td>\n",
       "      <td>...</td>\n",
       "      <td>1</td>\n",
       "      <td>999</td>\n",
       "      <td>0</td>\n",
       "      <td>nonexistent</td>\n",
       "      <td>1.1</td>\n",
       "      <td>93.994</td>\n",
       "      <td>-36.4</td>\n",
       "      <td>4.857</td>\n",
       "      <td>5191.0</td>\n",
       "      <td>no</td>\n",
       "    </tr>\n",
       "    <tr>\n",
       "      <th>1</th>\n",
       "      <td>57.0</td>\n",
       "      <td>services</td>\n",
       "      <td>married</td>\n",
       "      <td>high.school</td>\n",
       "      <td>unknown</td>\n",
       "      <td>no</td>\n",
       "      <td>no</td>\n",
       "      <td>telephone</td>\n",
       "      <td>may</td>\n",
       "      <td>mon</td>\n",
       "      <td>...</td>\n",
       "      <td>1</td>\n",
       "      <td>999</td>\n",
       "      <td>0</td>\n",
       "      <td>nonexistent</td>\n",
       "      <td>1.1</td>\n",
       "      <td>93.994</td>\n",
       "      <td>-36.4</td>\n",
       "      <td>4.857</td>\n",
       "      <td>5191.0</td>\n",
       "      <td>no</td>\n",
       "    </tr>\n",
       "    <tr>\n",
       "      <th>2</th>\n",
       "      <td>37.0</td>\n",
       "      <td>services</td>\n",
       "      <td>married</td>\n",
       "      <td>high.school</td>\n",
       "      <td>no</td>\n",
       "      <td>yes</td>\n",
       "      <td>no</td>\n",
       "      <td>telephone</td>\n",
       "      <td>may</td>\n",
       "      <td>mon</td>\n",
       "      <td>...</td>\n",
       "      <td>1</td>\n",
       "      <td>999</td>\n",
       "      <td>0</td>\n",
       "      <td>nonexistent</td>\n",
       "      <td>1.1</td>\n",
       "      <td>NaN</td>\n",
       "      <td>-36.4</td>\n",
       "      <td>4.857</td>\n",
       "      <td>5191.0</td>\n",
       "      <td>no</td>\n",
       "    </tr>\n",
       "    <tr>\n",
       "      <th>3</th>\n",
       "      <td>40.0</td>\n",
       "      <td>admin.</td>\n",
       "      <td>married</td>\n",
       "      <td>basic.6y</td>\n",
       "      <td>no</td>\n",
       "      <td>no</td>\n",
       "      <td>no</td>\n",
       "      <td>telephone</td>\n",
       "      <td>may</td>\n",
       "      <td>mon</td>\n",
       "      <td>...</td>\n",
       "      <td>1</td>\n",
       "      <td>999</td>\n",
       "      <td>0</td>\n",
       "      <td>nonexistent</td>\n",
       "      <td>1.1</td>\n",
       "      <td>93.994</td>\n",
       "      <td>-36.4</td>\n",
       "      <td>4.857</td>\n",
       "      <td>5191.0</td>\n",
       "      <td>no</td>\n",
       "    </tr>\n",
       "    <tr>\n",
       "      <th>4</th>\n",
       "      <td>56.0</td>\n",
       "      <td>services</td>\n",
       "      <td>married</td>\n",
       "      <td>high.school</td>\n",
       "      <td>no</td>\n",
       "      <td>no</td>\n",
       "      <td>yes</td>\n",
       "      <td>telephone</td>\n",
       "      <td>may</td>\n",
       "      <td>mon</td>\n",
       "      <td>...</td>\n",
       "      <td>1</td>\n",
       "      <td>999</td>\n",
       "      <td>0</td>\n",
       "      <td>nonexistent</td>\n",
       "      <td>1.1</td>\n",
       "      <td>NaN</td>\n",
       "      <td>-36.4</td>\n",
       "      <td>4.857</td>\n",
       "      <td>5191.0</td>\n",
       "      <td>no</td>\n",
       "    </tr>\n",
       "  </tbody>\n",
       "</table>\n",
       "<p>5 rows × 21 columns</p>\n",
       "</div>"
      ],
      "text/plain": [
       "    age        job  marital    education  default housing loan    contact  \\\n",
       "0  56.0  housemaid  married     basic.4y       no      no   no  telephone   \n",
       "1  57.0   services  married  high.school  unknown      no   no  telephone   \n",
       "2  37.0   services  married  high.school       no     yes   no  telephone   \n",
       "3  40.0     admin.  married     basic.6y       no      no   no  telephone   \n",
       "4  56.0   services  married  high.school       no      no  yes  telephone   \n",
       "\n",
       "  month day_of_week  ...  campaign  pdays  previous     poutcome emp.var.rate  \\\n",
       "0   may         mon  ...         1    999         0  nonexistent          1.1   \n",
       "1   may         mon  ...         1    999         0  nonexistent          1.1   \n",
       "2   may         mon  ...         1    999         0  nonexistent          1.1   \n",
       "3   may         mon  ...         1    999         0  nonexistent          1.1   \n",
       "4   may         mon  ...         1    999         0  nonexistent          1.1   \n",
       "\n",
       "   cons.price.idx  cons.conf.idx  euribor3m  nr.employed   y  \n",
       "0          93.994          -36.4      4.857       5191.0  no  \n",
       "1          93.994          -36.4      4.857       5191.0  no  \n",
       "2             NaN          -36.4      4.857       5191.0  no  \n",
       "3          93.994          -36.4      4.857       5191.0  no  \n",
       "4             NaN          -36.4      4.857       5191.0  no  \n",
       "\n",
       "[5 rows x 21 columns]"
      ]
     },
     "execution_count": 3,
     "metadata": {},
     "output_type": "execute_result"
    }
   ],
   "source": [
    "df.head()"
   ]
  },
  {
   "cell_type": "code",
   "execution_count": 4,
   "id": "affb200c",
   "metadata": {},
   "outputs": [
    {
     "data": {
      "text/plain": [
       "(41188, 21)"
      ]
     },
     "execution_count": 4,
     "metadata": {},
     "output_type": "execute_result"
    }
   ],
   "source": [
    "df.shape"
   ]
  },
  {
   "cell_type": "markdown",
   "id": "35b992a3",
   "metadata": {},
   "source": [
    "There are 41188 rows. Every row is a phone call to client. And there are 21 columns. The last column is y, the output variable. There might be cases where the same client was contacted multiple times."
   ]
  },
  {
   "cell_type": "code",
   "execution_count": 5,
   "id": "aef94b0d",
   "metadata": {},
   "outputs": [
    {
     "data": {
      "text/plain": [
       "Index(['age', 'job', 'marital', 'education', 'default', 'housing', 'loan',\n",
       "       'contact', 'month', 'day_of_week', 'duration', 'campaign', 'pdays',\n",
       "       'previous', 'poutcome', 'emp.var.rate', 'cons.price.idx',\n",
       "       'cons.conf.idx', 'euribor3m', 'nr.employed', 'y'],\n",
       "      dtype='object')"
      ]
     },
     "execution_count": 5,
     "metadata": {},
     "output_type": "execute_result"
    }
   ],
   "source": [
    "df.keys()"
   ]
  },
  {
   "cell_type": "markdown",
   "id": "8531038b",
   "metadata": {},
   "source": [
    "### 1.1 Handle duplicates <a name=\"1.1\"></a>"
   ]
  },
  {
   "cell_type": "code",
   "execution_count": 6,
   "id": "51a81869",
   "metadata": {},
   "outputs": [
    {
     "data": {
      "text/plain": [
       "9"
      ]
     },
     "execution_count": 6,
     "metadata": {},
     "output_type": "execute_result"
    }
   ],
   "source": [
    "# Check if there are any duplicates\n",
    "df.duplicated().sum()"
   ]
  },
  {
   "cell_type": "markdown",
   "id": "de0ebab9",
   "metadata": {},
   "source": [
    "There are 9 duplicated rows. We need to drop the duplicates since they might give you an inflated results while analysing the data."
   ]
  },
  {
   "cell_type": "code",
   "execution_count": 7,
   "id": "3dc871fd",
   "metadata": {},
   "outputs": [],
   "source": [
    "# Drop the duplicates\n",
    "df = df.drop_duplicates()"
   ]
  },
  {
   "cell_type": "code",
   "execution_count": 8,
   "id": "0005ba64",
   "metadata": {},
   "outputs": [
    {
     "data": {
      "text/plain": [
       "0"
      ]
     },
     "execution_count": 8,
     "metadata": {},
     "output_type": "execute_result"
    }
   ],
   "source": [
    "df.duplicated().sum()"
   ]
  },
  {
   "cell_type": "code",
   "execution_count": 9,
   "id": "c3cf3324",
   "metadata": {},
   "outputs": [
    {
     "data": {
      "text/plain": [
       "(41179, 21)"
      ]
     },
     "execution_count": 9,
     "metadata": {},
     "output_type": "execute_result"
    }
   ],
   "source": [
    "df.shape"
   ]
  },
  {
   "cell_type": "markdown",
   "id": "b98a2591",
   "metadata": {},
   "source": [
    "### 1.2 Check for duplicated columns <a name=\"1.2\"></a>"
   ]
  },
  {
   "cell_type": "code",
   "execution_count": 10,
   "id": "c7d5cd49",
   "metadata": {},
   "outputs": [
    {
     "data": {
      "text/plain": [
       "age               False\n",
       "job               False\n",
       "marital           False\n",
       "education         False\n",
       "default           False\n",
       "housing           False\n",
       "loan              False\n",
       "contact           False\n",
       "month             False\n",
       "day_of_week       False\n",
       "duration          False\n",
       "campaign          False\n",
       "pdays             False\n",
       "previous          False\n",
       "poutcome          False\n",
       "emp.var.rate      False\n",
       "cons.price.idx    False\n",
       "cons.conf.idx     False\n",
       "euribor3m         False\n",
       "nr.employed       False\n",
       "y                 False\n",
       "dtype: bool"
      ]
     },
     "execution_count": 10,
     "metadata": {},
     "output_type": "execute_result"
    }
   ],
   "source": [
    "# Check duplicated columns\n",
    "df.T.duplicated()"
   ]
  },
  {
   "cell_type": "markdown",
   "id": "1d737a63",
   "metadata": {},
   "source": [
    "There are no duplicated columns."
   ]
  },
  {
   "cell_type": "markdown",
   "id": "b3e9b273",
   "metadata": {},
   "source": [
    "### 1.3 Check missing values<a name=\"1.3\"></a>"
   ]
  },
  {
   "cell_type": "markdown",
   "id": "c86a98fa",
   "metadata": {},
   "source": [
    "Missing values can cause bias in the machine learning models and reduce the accuracy of the model. We need to handle the missing values to be able to create an healty classification model."
   ]
  },
  {
   "cell_type": "code",
   "execution_count": 11,
   "id": "c900492b",
   "metadata": {},
   "outputs": [
    {
     "data": {
      "text/plain": [
       "age               3744\n",
       "job                  0\n",
       "marital              0\n",
       "education            0\n",
       "default              0\n",
       "housing              0\n",
       "loan                 0\n",
       "contact              0\n",
       "month                0\n",
       "day_of_week          0\n",
       "duration             0\n",
       "campaign             0\n",
       "pdays                0\n",
       "previous             0\n",
       "poutcome             0\n",
       "emp.var.rate         0\n",
       "cons.price.idx    5148\n",
       "cons.conf.idx        0\n",
       "euribor3m            0\n",
       "nr.employed          0\n",
       "y                    0\n",
       "dtype: int64"
      ]
     },
     "execution_count": 11,
     "metadata": {},
     "output_type": "execute_result"
    }
   ],
   "source": [
    "# Check if there are any null values\n",
    "df.isna().sum()"
   ]
  },
  {
   "cell_type": "code",
   "execution_count": 12,
   "id": "eb7fd2e4",
   "metadata": {},
   "outputs": [
    {
     "name": "stdout",
     "output_type": "stream",
     "text": [
      "9.092012919206391\n",
      "12.501517763908787\n"
     ]
    }
   ],
   "source": [
    "# Percentage of the null values\n",
    "print(df['age'].isna().sum() / df.shape[0] * 100)\n",
    "print(df['cons.price.idx'].isna().sum() / df.shape[0] * 100)"
   ]
  },
  {
   "cell_type": "markdown",
   "id": "179ba179",
   "metadata": {},
   "source": [
    "There are 3744 missing 'age' which is 9.09% of the data and 5148 missing 'cons.price.idx' (consumer price index) which is 12.5% of the data. We need to handle missing values individually. It will be handled in the next section."
   ]
  },
  {
   "cell_type": "markdown",
   "id": "8319c2f7",
   "metadata": {},
   "source": [
    "Note that there are also values that are entered as 'unknown' which is also missing values."
   ]
  },
  {
   "cell_type": "code",
   "execution_count": 13,
   "id": "027e78a8",
   "metadata": {},
   "outputs": [
    {
     "data": {
      "text/plain": [
       "age                  0\n",
       "job                330\n",
       "marital             80\n",
       "education         1730\n",
       "default           8596\n",
       "housing            990\n",
       "loan               990\n",
       "contact              0\n",
       "month                0\n",
       "day_of_week          0\n",
       "duration             0\n",
       "campaign             0\n",
       "pdays                0\n",
       "previous             0\n",
       "poutcome             0\n",
       "emp.var.rate         0\n",
       "cons.price.idx       0\n",
       "cons.conf.idx        0\n",
       "euribor3m            0\n",
       "nr.employed          0\n",
       "y                    0\n",
       "dtype: int64"
      ]
     },
     "execution_count": 13,
     "metadata": {},
     "output_type": "execute_result"
    }
   ],
   "source": [
    "df.isin(['unknown']).sum(axis=0)"
   ]
  },
  {
   "cell_type": "code",
   "execution_count": 14,
   "id": "ebb64e94",
   "metadata": {},
   "outputs": [
    {
     "name": "stdout",
     "output_type": "stream",
     "text": [
      "0.801379343840307\n",
      "0.1942737803249229\n",
      "4.201170499526458\n",
      "20.874717695912963\n",
      "2.4041380315209206\n",
      "2.4041380315209206\n"
     ]
    }
   ],
   "source": [
    "# Percentage of the unknown values\n",
    "print(df['job'].isin(['unknown']).sum(axis=0) / df.shape[0] * 100)\n",
    "print(df['marital'].isin(['unknown']).sum(axis=0) / df.shape[0] * 100)\n",
    "print(df['education'].isin(['unknown']).sum(axis=0) / df.shape[0] * 100)\n",
    "print(df['default'].isin(['unknown']).sum(axis=0) / df.shape[0] * 100)\n",
    "print(df['housing'].isin(['unknown']).sum(axis=0) / df.shape[0] * 100)\n",
    "print(df['loan'].isin(['unknown']).sum(axis=0) / df.shape[0] * 100)"
   ]
  },
  {
   "cell_type": "markdown",
   "id": "44154fd7",
   "metadata": {},
   "source": [
    "The unknown values for each variable\n",
    "- 330 'job' which is 0.8% of the data.\n",
    "- 80 'marital' which is 0.19% of the data.\n",
    "- 1730 'education' which is 4.2% of the data.\n",
    "- 8596 'default' which is 20.8% of the data.\n",
    "- 990 'housing' which is 2.4% of the data.\n",
    "- 990 'loan' which is 2.4% of the data."
   ]
  },
  {
   "cell_type": "markdown",
   "id": "70a271d0",
   "metadata": {},
   "source": [
    "As seen the most missing variable is 'default' variable. Which is the answer to the question \"has credit in default?\". Note that a default occurs when a borrower stops making the required payments on a debt. "
   ]
  },
  {
   "cell_type": "code",
   "execution_count": 15,
   "id": "a3d8d9cb",
   "metadata": {},
   "outputs": [
    {
     "data": {
      "text/plain": [
       "no         32580\n",
       "unknown     8596\n",
       "yes            3\n",
       "Name: default, dtype: int64"
      ]
     },
     "execution_count": 15,
     "metadata": {},
     "output_type": "execute_result"
    }
   ],
   "source": [
    "df['default'].value_counts()"
   ]
  },
  {
   "cell_type": "code",
   "execution_count": 16,
   "id": "13f7efe9",
   "metadata": {},
   "outputs": [
    {
     "data": {
      "text/plain": [
       "no         12600\n",
       "unknown     3456\n",
       "yes            2\n",
       "Name: default, dtype: int64"
      ]
     },
     "execution_count": 16,
     "metadata": {},
     "output_type": "execute_result"
    }
   ],
   "source": [
    "df[(df['housing']=='no') & (df['loan']=='no')]['default'].value_counts()"
   ]
  },
  {
   "cell_type": "markdown",
   "id": "4b3f9fee",
   "metadata": {},
   "source": [
    "I wanted to check that if 'unknown' in default variable means this person never get a housing or personal loan. But the results sholws that it is not the case. I decided to keep the the unknown answer as is. It might hold some information for the model. We can revisit it later."
   ]
  },
  {
   "cell_type": "code",
   "execution_count": 17,
   "id": "48e2b877",
   "metadata": {},
   "outputs": [
    {
     "data": {
      "text/plain": [
       "(990, 21)"
      ]
     },
     "execution_count": 17,
     "metadata": {},
     "output_type": "execute_result"
    }
   ],
   "source": [
    "df[(df['housing']=='unknown') & (df['loan']=='unknown')].shape"
   ]
  },
  {
   "cell_type": "markdown",
   "id": "afb1b231",
   "metadata": {},
   "source": [
    "There are 990 unknowns for both housing loan and personal loan questions. The case number when both of them are unknown at the same time is also 990. It means that the loan questions are not asked at this calls."
   ]
  },
  {
   "cell_type": "markdown",
   "id": "c0be4a64",
   "metadata": {},
   "source": [
    "We will keep the unknown answers as is in the categorical questions for now. But we should keep in mind that there are unknown values as shown in the previous celss."
   ]
  },
  {
   "cell_type": "markdown",
   "id": "035189ce",
   "metadata": {},
   "source": [
    "There is no duplicated column."
   ]
  },
  {
   "cell_type": "markdown",
   "id": "dd2472ac",
   "metadata": {},
   "source": [
    "### 1.4 Explore target variable <a name=\"1.4\"></a>"
   ]
  },
  {
   "cell_type": "markdown",
   "id": "16372762",
   "metadata": {},
   "source": [
    "The target variable is y which is the answer to the question \"has the client subscribed a term deposit?\" there are two possibel answers."
   ]
  },
  {
   "cell_type": "code",
   "execution_count": 18,
   "id": "3864a05e",
   "metadata": {},
   "outputs": [
    {
     "data": {
      "text/plain": [
       "count     41179\n",
       "unique        2\n",
       "top          no\n",
       "freq      36540\n",
       "Name: y, dtype: object"
      ]
     },
     "execution_count": 18,
     "metadata": {},
     "output_type": "execute_result"
    }
   ],
   "source": [
    "df['y'].describe()"
   ]
  },
  {
   "cell_type": "code",
   "execution_count": 19,
   "id": "a2dabce5",
   "metadata": {},
   "outputs": [
    {
     "data": {
      "text/plain": [
       "no     36540\n",
       "yes     4639\n",
       "Name: y, dtype: int64"
      ]
     },
     "execution_count": 19,
     "metadata": {},
     "output_type": "execute_result"
    }
   ],
   "source": [
    "df['y'].value_counts()"
   ]
  },
  {
   "cell_type": "code",
   "execution_count": 20,
   "id": "94bd4884",
   "metadata": {},
   "outputs": [
    {
     "data": {
      "image/png": "[encoded data removed]",
      "text/plain": [
       "<Figure size 1008x432 with 1 Axes>"
      ]
     },
     "metadata": {
      "needs_background": "light"
     },
     "output_type": "display_data"
    }
   ],
   "source": [
    "df['y'].value_counts().plot(kind=\"bar\", figsize=(14, 6))\n",
    "plt.xticks(rotation=0);"
   ]
  },
  {
   "cell_type": "code",
   "execution_count": 21,
   "id": "db9f92ca",
   "metadata": {},
   "outputs": [
    {
     "data": {
      "image/png": "[encoded data removed]",
      "text/plain": [
       "<Figure size 432x288 with 1 Axes>"
      ]
     },
     "metadata": {},
     "output_type": "display_data"
    }
   ],
   "source": [
    "y = df['y'].value_counts()\n",
    "mylabels = [\"no: not subscribed\", \"yes: subscribed\"]\n",
    "\n",
    "plt.pie(y, labels = mylabels)\n",
    "plt.show() "
   ]
  },
  {
   "cell_type": "markdown",
   "id": "156f4d7a",
   "metadata": {},
   "source": [
    "This data set is very unbalanced. Before applying any machine learning algoritm, we need to come with an idea to mitigate the impact of a small number of observed failures."
   ]
  },
  {
   "cell_type": "markdown",
   "id": "0e14b613",
   "metadata": {},
   "source": [
    "### 1.5 Explore features <a name=\"1.5\"></a>"
   ]
  },
  {
   "cell_type": "markdown",
   "id": "33423792",
   "metadata": {},
   "source": [
    "#### Age"
   ]
  },
  {
   "cell_type": "code",
   "execution_count": 22,
   "id": "d3705010",
   "metadata": {},
   "outputs": [
    {
     "data": {
      "text/plain": [
       "count    37435.000000\n",
       "mean        39.999279\n",
       "std         10.414284\n",
       "min         17.000000\n",
       "25%         32.000000\n",
       "50%         38.000000\n",
       "75%         47.000000\n",
       "max         98.000000\n",
       "Name: age, dtype: float64"
      ]
     },
     "execution_count": 22,
     "metadata": {},
     "output_type": "execute_result"
    }
   ],
   "source": [
    "df['age'].describe()"
   ]
  },
  {
   "cell_type": "markdown",
   "id": "fc18042c",
   "metadata": {},
   "source": [
    "The minimum age is 17 and maximum age is 98. The mean is 40."
   ]
  },
  {
   "cell_type": "code",
   "execution_count": 23,
   "id": "d6380455",
   "metadata": {},
   "outputs": [
    {
     "data": {
      "image/png": "[encoded data removed]"
     },
     "metadata": {},
     "output_type": "display_data"
    }
   ],
   "source": [
    "fig = px.histogram(df, x=\"age\", nbins=50, title= \"The histogram of age\")\n",
    "fig.show(\"png\")"
   ]
  },
  {
   "cell_type": "markdown",
   "id": "3779e1e4",
   "metadata": {},
   "source": [
    "#### handle the mssing value in age"
   ]
  },
  {
   "cell_type": "markdown",
   "id": "ba3a8857",
   "metadata": {},
   "source": [
    "From the previous section we learned that there are 3744 missing 'age' which is 9.09% of the data. I am planning to fill the with the mean age of group by two variables: job and marital status. I thought it will be more realistic and close to true age values. For example if a person is retired, the age mean is different than if the person is student. And also marital status might have a relation with age.\n",
    "\n",
    "Note that job categories are: 'admin.','blue-collar','entrepreneur','housemaid','management','retired','self-employed','services','student','technician','unemployed','unknown' and\n",
    "marital status categories are 'divorced','married','single','unknown'."
   ]
  },
  {
   "cell_type": "code",
   "execution_count": 24,
   "id": "7ca01ded",
   "metadata": {},
   "outputs": [
    {
     "data": {
      "text/plain": [
       "3744"
      ]
     },
     "execution_count": 24,
     "metadata": {},
     "output_type": "execute_result"
    }
   ],
   "source": [
    "df['age'].isna().sum()"
   ]
  },
  {
   "cell_type": "code",
   "execution_count": 25,
   "id": "6b46dbf9",
   "metadata": {},
   "outputs": [],
   "source": [
    "df['age'].fillna(df.groupby(['job','marital'])['age'].transform('mean'), inplace=True)"
   ]
  },
  {
   "cell_type": "code",
   "execution_count": 26,
   "id": "0152eec8",
   "metadata": {},
   "outputs": [
    {
     "data": {
      "text/plain": [
       "0"
      ]
     },
     "execution_count": 26,
     "metadata": {},
     "output_type": "execute_result"
    }
   ],
   "source": [
    "df['age'].isna().sum()"
   ]
  },
  {
   "cell_type": "markdown",
   "id": "910bfe6f",
   "metadata": {},
   "source": [
    "#### Job"
   ]
  },
  {
   "cell_type": "code",
   "execution_count": 27,
   "id": "411a0223",
   "metadata": {},
   "outputs": [
    {
     "data": {
      "text/plain": [
       "admin.           10420\n",
       "blue-collar       9253\n",
       "technician        6740\n",
       "services          3968\n",
       "management        2924\n",
       "retired           1718\n",
       "entrepreneur      1456\n",
       "self-employed     1421\n",
       "housemaid         1060\n",
       "unemployed        1014\n",
       "student            875\n",
       "unknown            330\n",
       "Name: job, dtype: int64"
      ]
     },
     "execution_count": 27,
     "metadata": {},
     "output_type": "execute_result"
    }
   ],
   "source": [
    "df['job'].value_counts()"
   ]
  },
  {
   "cell_type": "code",
   "execution_count": 28,
   "id": "a0a720c8",
   "metadata": {},
   "outputs": [
    {
     "data": {
      "text/plain": [
       "12"
      ]
     },
     "execution_count": 28,
     "metadata": {},
     "output_type": "execute_result"
    }
   ],
   "source": [
    "df['job'].nunique()"
   ]
  },
  {
   "cell_type": "code",
   "execution_count": 29,
   "id": "af259700",
   "metadata": {},
   "outputs": [
    {
     "data": {
      "image/png": "[encoded data removed]",
      "text/plain": [
       "<Figure size 1008x432 with 1 Axes>"
      ]
     },
     "metadata": {
      "needs_background": "light"
     },
     "output_type": "display_data"
    }
   ],
   "source": [
    "df['job'].value_counts().plot(kind=\"bar\", figsize=(14, 6))\n",
    "plt.xticks(rotation=90);"
   ]
  },
  {
   "cell_type": "markdown",
   "id": "377b3210",
   "metadata": {},
   "source": [
    "#### Marital"
   ]
  },
  {
   "cell_type": "code",
   "execution_count": 30,
   "id": "ecb1cd53",
   "metadata": {},
   "outputs": [
    {
     "data": {
      "text/plain": [
       "married     24922\n",
       "single      11565\n",
       "divorced     4612\n",
       "unknown        80\n",
       "Name: marital, dtype: int64"
      ]
     },
     "execution_count": 30,
     "metadata": {},
     "output_type": "execute_result"
    }
   ],
   "source": [
    "df['marital'].value_counts()"
   ]
  },
  {
   "cell_type": "code",
   "execution_count": 31,
   "id": "4a0adaf9",
   "metadata": {},
   "outputs": [
    {
     "data": {
      "image/png": "[encoded data removed]"
     },
     "metadata": {},
     "output_type": "display_data"
    }
   ],
   "source": [
    "fig = px.pie(values = df['marital'].value_counts(), \n",
    "             names = (df['marital'].value_counts()).index, \n",
    "             title = 'Marital Status')\n",
    "fig.show(\"png\")"
   ]
  },
  {
   "cell_type": "markdown",
   "id": "23daa254",
   "metadata": {},
   "source": [
    "#### Education"
   ]
  },
  {
   "cell_type": "code",
   "execution_count": 32,
   "id": "0c1a2210",
   "metadata": {},
   "outputs": [
    {
     "data": {
      "text/plain": [
       "university.degree      12165\n",
       "high.school             9514\n",
       "basic.9y                6045\n",
       "professional.course     5240\n",
       "basic.4y                4176\n",
       "basic.6y                2291\n",
       "unknown                 1730\n",
       "illiterate                18\n",
       "Name: education, dtype: int64"
      ]
     },
     "execution_count": 32,
     "metadata": {},
     "output_type": "execute_result"
    }
   ],
   "source": [
    "df['education'].value_counts()"
   ]
  },
  {
   "cell_type": "code",
   "execution_count": 33,
   "id": "5196842b",
   "metadata": {},
   "outputs": [
    {
     "data": {
      "image/png": "[encoded data removed]",
      "text/plain": [
       "<Figure size 1008x432 with 1 Axes>"
      ]
     },
     "metadata": {
      "needs_background": "light"
     },
     "output_type": "display_data"
    }
   ],
   "source": [
    "df['education'].value_counts().plot(kind=\"bar\", figsize=(14, 6))\n",
    "plt.xticks(rotation=90);"
   ]
  },
  {
   "cell_type": "markdown",
   "id": "60429988",
   "metadata": {},
   "source": [
    "#### default"
   ]
  },
  {
   "cell_type": "code",
   "execution_count": 34,
   "id": "8a885209",
   "metadata": {},
   "outputs": [
    {
     "data": {
      "text/plain": [
       "no         32580\n",
       "unknown     8596\n",
       "yes            3\n",
       "Name: default, dtype: int64"
      ]
     },
     "execution_count": 34,
     "metadata": {},
     "output_type": "execute_result"
    }
   ],
   "source": [
    "df['default'].value_counts()"
   ]
  },
  {
   "cell_type": "code",
   "execution_count": 35,
   "id": "f5851c22",
   "metadata": {},
   "outputs": [
    {
     "data": {
      "image/png": "[encoded data removed]"
     },
     "metadata": {},
     "output_type": "display_data"
    }
   ],
   "source": [
    "fig = px.pie(values = df['default'].value_counts(), \n",
    "             names = (df['default'].value_counts()).index, \n",
    "             title = 'default Status')\n",
    "fig.show(\"png\")"
   ]
  },
  {
   "cell_type": "markdown",
   "id": "62dcb634",
   "metadata": {},
   "source": [
    "#### pdays"
   ]
  },
  {
   "cell_type": "markdown",
   "id": "baadb712",
   "metadata": {},
   "source": [
    "pdays means number of days that passed by after the client was last contacted from a previous campaign. 999 means client was not previously contacted."
   ]
  },
  {
   "cell_type": "code",
   "execution_count": 36,
   "id": "ea0b0823",
   "metadata": {},
   "outputs": [
    {
     "data": {
      "image/png": "[encoded data removed]"
     },
     "metadata": {},
     "output_type": "display_data"
    }
   ],
   "source": [
    "fig = px.histogram(df, x=\"pdays\", nbins=50, title= \"The histogram of pday\")\n",
    "fig.show(\"png\")"
   ]
  },
  {
   "cell_type": "markdown",
   "id": "8c2fe384",
   "metadata": {},
   "source": [
    "As seen above most of the values are 999, means the customer was not previoustly contacted. We can change the variable as previously contacted or not in the next section."
   ]
  },
  {
   "cell_type": "markdown",
   "id": "5b12b593",
   "metadata": {},
   "source": [
    "## 2. Process the data <a name=\"process\"></a>"
   ]
  },
  {
   "cell_type": "markdown",
   "id": "55de0b90",
   "metadata": {},
   "source": [
    "- From the previous section we discussed the null valusies. There were two columns with null values: age and cons.price.idx. We have already handled the age and we need to handle cons.price.idx missing values.\n",
    "\n",
    "- We are planning to apply logistic regression and random forest algorithms. \n",
    "Decision tree based algorithms can learn directly from categorical data with no data transform required, logistic regression.\n",
    "algorithm cannot operate on label data directly. \n",
    "This means that categorical data must be converted to a numerical form.\n",
    "\n",
    "- We need to drop duration because this attribute highly affects the output target (e.g., if duration=0 then y='no'). it should be discarded if the intention is to have a realistic predictive model.\n",
    "\n",
    "- Also we will change the pday to 1 and 0 where they mean privously contacted and privously not contacted.\n",
    "\n",
    "- Dummy code y column as 1 and 0.\n",
    "\n",
    "- Split train test.\n",
    "\n",
    "- Handle unbalanced train data.\n",
    "\n",
    "No need to standardize the data."
   ]
  },
  {
   "cell_type": "markdown",
   "id": "f99621ff",
   "metadata": {},
   "source": [
    "### 2.1 Handle missing values for cons.price.idx <a name=\"2.1\"></a>"
   ]
  },
  {
   "cell_type": "code",
   "execution_count": 37,
   "id": "026a9005",
   "metadata": {},
   "outputs": [
    {
     "data": {
      "text/plain": [
       "count    36031.000000\n",
       "mean        93.575615\n",
       "std          0.579210\n",
       "min         92.201000\n",
       "25%         93.075000\n",
       "50%         93.749000\n",
       "75%         93.994000\n",
       "max         94.767000\n",
       "Name: cons.price.idx, dtype: float64"
      ]
     },
     "execution_count": 37,
     "metadata": {},
     "output_type": "execute_result"
    }
   ],
   "source": [
    "df['cons.price.idx'].describe()"
   ]
  },
  {
   "cell_type": "markdown",
   "id": "04214dc6",
   "metadata": {},
   "source": [
    "We can fill it with the mean value since the values are very close to each other."
   ]
  },
  {
   "cell_type": "code",
   "execution_count": 38,
   "id": "f3bb8798",
   "metadata": {},
   "outputs": [],
   "source": [
    "df['cons.price.idx'] =  df['cons.price.idx'].fillna(df['cons.price.idx'].mean())"
   ]
  },
  {
   "cell_type": "code",
   "execution_count": 39,
   "id": "3ff55ed1",
   "metadata": {},
   "outputs": [
    {
     "data": {
      "text/plain": [
       "0"
      ]
     },
     "execution_count": 39,
     "metadata": {},
     "output_type": "execute_result"
    }
   ],
   "source": [
    "df['cons.price.idx'].isna().sum()"
   ]
  },
  {
   "cell_type": "markdown",
   "id": "18b50c86",
   "metadata": {},
   "source": [
    "### 2.2 One hot encode categorical data <a name=\"2.2\"></a>"
   ]
  },
  {
   "cell_type": "code",
   "execution_count": 40,
   "id": "bcc5c759",
   "metadata": {},
   "outputs": [],
   "source": [
    "df_one_hot_encoded = pd.get_dummies(df, columns = ['job', 'marital', 'education', 'default', 'housing', 'loan',\n",
    "       'contact', 'month', 'day_of_week', 'poutcome'])"
   ]
  },
  {
   "cell_type": "code",
   "execution_count": 41,
   "id": "78ed1af4",
   "metadata": {},
   "outputs": [
    {
     "data": {
      "text/plain": [
       "Index(['age', 'duration', 'campaign', 'pdays', 'previous', 'emp.var.rate',\n",
       "       'cons.price.idx', 'cons.conf.idx', 'euribor3m', 'nr.employed', 'y',\n",
       "       'job_admin.', 'job_blue-collar', 'job_entrepreneur', 'job_housemaid',\n",
       "       'job_management', 'job_retired', 'job_self-employed', 'job_services',\n",
       "       'job_student', 'job_technician', 'job_unemployed', 'job_unknown',\n",
       "       'marital_divorced', 'marital_married', 'marital_single',\n",
       "       'marital_unknown', 'education_basic.4y', 'education_basic.6y',\n",
       "       'education_basic.9y', 'education_high.school', 'education_illiterate',\n",
       "       'education_professional.course', 'education_university.degree',\n",
       "       'education_unknown', 'default_no', 'default_unknown', 'default_yes',\n",
       "       'housing_no', 'housing_unknown', 'housing_yes', 'loan_no',\n",
       "       'loan_unknown', 'loan_yes', 'contact_cellular', 'contact_telephone',\n",
       "       'month_apr', 'month_aug', 'month_dec', 'month_jul', 'month_jun',\n",
       "       'month_mar', 'month_may', 'month_nov', 'month_oct', 'month_sep',\n",
       "       'day_of_week_fri', 'day_of_week_mon', 'day_of_week_thu',\n",
       "       'day_of_week_tue', 'day_of_week_wed', 'poutcome_failure',\n",
       "       'poutcome_nonexistent', 'poutcome_success'],\n",
       "      dtype='object')"
      ]
     },
     "execution_count": 41,
     "metadata": {},
     "output_type": "execute_result"
    }
   ],
   "source": [
    "df_one_hot_encoded.columns"
   ]
  },
  {
   "cell_type": "markdown",
   "id": "9363bdb4",
   "metadata": {},
   "source": [
    "### 2.3 Drop 'duration' column <a name=\"2.3\"></a>"
   ]
  },
  {
   "cell_type": "markdown",
   "id": "d54ecb23",
   "metadata": {},
   "source": [
    "This attribute highly affects the output target (e.g., if duration=0 then y='no'). it should be discarded if the intention is to have a realistic predictive model."
   ]
  },
  {
   "cell_type": "code",
   "execution_count": 42,
   "id": "b9b73bea",
   "metadata": {},
   "outputs": [
    {
     "data": {
      "text/html": [
       "<div>\n",
       "<style scoped>\n",
       "    .dataframe tbody tr th:only-of-type {\n",
       "        vertical-align: middle;\n",
       "    }\n",
       "\n",
       "    .dataframe tbody tr th {\n",
       "        vertical-align: top;\n",
       "    }\n",
       "\n",
       "    .dataframe thead th {\n",
       "        text-align: right;\n",
       "    }\n",
       "</style>\n",
       "<table border=\"1\" class=\"dataframe\">\n",
       "  <thead>\n",
       "    <tr style=\"text-align: right;\">\n",
       "      <th></th>\n",
       "      <th>age</th>\n",
       "      <th>campaign</th>\n",
       "      <th>pdays</th>\n",
       "      <th>previous</th>\n",
       "      <th>emp.var.rate</th>\n",
       "      <th>cons.price.idx</th>\n",
       "      <th>cons.conf.idx</th>\n",
       "      <th>euribor3m</th>\n",
       "      <th>nr.employed</th>\n",
       "      <th>y</th>\n",
       "      <th>...</th>\n",
       "      <th>month_oct</th>\n",
       "      <th>month_sep</th>\n",
       "      <th>day_of_week_fri</th>\n",
       "      <th>day_of_week_mon</th>\n",
       "      <th>day_of_week_thu</th>\n",
       "      <th>day_of_week_tue</th>\n",
       "      <th>day_of_week_wed</th>\n",
       "      <th>poutcome_failure</th>\n",
       "      <th>poutcome_nonexistent</th>\n",
       "      <th>poutcome_success</th>\n",
       "    </tr>\n",
       "  </thead>\n",
       "  <tbody>\n",
       "    <tr>\n",
       "      <th>0</th>\n",
       "      <td>56.0</td>\n",
       "      <td>1</td>\n",
       "      <td>999</td>\n",
       "      <td>0</td>\n",
       "      <td>1.1</td>\n",
       "      <td>93.994000</td>\n",
       "      <td>-36.4</td>\n",
       "      <td>4.857</td>\n",
       "      <td>5191.0</td>\n",
       "      <td>no</td>\n",
       "      <td>...</td>\n",
       "      <td>0</td>\n",
       "      <td>0</td>\n",
       "      <td>0</td>\n",
       "      <td>1</td>\n",
       "      <td>0</td>\n",
       "      <td>0</td>\n",
       "      <td>0</td>\n",
       "      <td>0</td>\n",
       "      <td>1</td>\n",
       "      <td>0</td>\n",
       "    </tr>\n",
       "    <tr>\n",
       "      <th>1</th>\n",
       "      <td>57.0</td>\n",
       "      <td>1</td>\n",
       "      <td>999</td>\n",
       "      <td>0</td>\n",
       "      <td>1.1</td>\n",
       "      <td>93.994000</td>\n",
       "      <td>-36.4</td>\n",
       "      <td>4.857</td>\n",
       "      <td>5191.0</td>\n",
       "      <td>no</td>\n",
       "      <td>...</td>\n",
       "      <td>0</td>\n",
       "      <td>0</td>\n",
       "      <td>0</td>\n",
       "      <td>1</td>\n",
       "      <td>0</td>\n",
       "      <td>0</td>\n",
       "      <td>0</td>\n",
       "      <td>0</td>\n",
       "      <td>1</td>\n",
       "      <td>0</td>\n",
       "    </tr>\n",
       "    <tr>\n",
       "      <th>2</th>\n",
       "      <td>37.0</td>\n",
       "      <td>1</td>\n",
       "      <td>999</td>\n",
       "      <td>0</td>\n",
       "      <td>1.1</td>\n",
       "      <td>93.575615</td>\n",
       "      <td>-36.4</td>\n",
       "      <td>4.857</td>\n",
       "      <td>5191.0</td>\n",
       "      <td>no</td>\n",
       "      <td>...</td>\n",
       "      <td>0</td>\n",
       "      <td>0</td>\n",
       "      <td>0</td>\n",
       "      <td>1</td>\n",
       "      <td>0</td>\n",
       "      <td>0</td>\n",
       "      <td>0</td>\n",
       "      <td>0</td>\n",
       "      <td>1</td>\n",
       "      <td>0</td>\n",
       "    </tr>\n",
       "    <tr>\n",
       "      <th>3</th>\n",
       "      <td>40.0</td>\n",
       "      <td>1</td>\n",
       "      <td>999</td>\n",
       "      <td>0</td>\n",
       "      <td>1.1</td>\n",
       "      <td>93.994000</td>\n",
       "      <td>-36.4</td>\n",
       "      <td>4.857</td>\n",
       "      <td>5191.0</td>\n",
       "      <td>no</td>\n",
       "      <td>...</td>\n",
       "      <td>0</td>\n",
       "      <td>0</td>\n",
       "      <td>0</td>\n",
       "      <td>1</td>\n",
       "      <td>0</td>\n",
       "      <td>0</td>\n",
       "      <td>0</td>\n",
       "      <td>0</td>\n",
       "      <td>1</td>\n",
       "      <td>0</td>\n",
       "    </tr>\n",
       "    <tr>\n",
       "      <th>4</th>\n",
       "      <td>56.0</td>\n",
       "      <td>1</td>\n",
       "      <td>999</td>\n",
       "      <td>0</td>\n",
       "      <td>1.1</td>\n",
       "      <td>93.575615</td>\n",
       "      <td>-36.4</td>\n",
       "      <td>4.857</td>\n",
       "      <td>5191.0</td>\n",
       "      <td>no</td>\n",
       "      <td>...</td>\n",
       "      <td>0</td>\n",
       "      <td>0</td>\n",
       "      <td>0</td>\n",
       "      <td>1</td>\n",
       "      <td>0</td>\n",
       "      <td>0</td>\n",
       "      <td>0</td>\n",
       "      <td>0</td>\n",
       "      <td>1</td>\n",
       "      <td>0</td>\n",
       "    </tr>\n",
       "    <tr>\n",
       "      <th>...</th>\n",
       "      <td>...</td>\n",
       "      <td>...</td>\n",
       "      <td>...</td>\n",
       "      <td>...</td>\n",
       "      <td>...</td>\n",
       "      <td>...</td>\n",
       "      <td>...</td>\n",
       "      <td>...</td>\n",
       "      <td>...</td>\n",
       "      <td>...</td>\n",
       "      <td>...</td>\n",
       "      <td>...</td>\n",
       "      <td>...</td>\n",
       "      <td>...</td>\n",
       "      <td>...</td>\n",
       "      <td>...</td>\n",
       "      <td>...</td>\n",
       "      <td>...</td>\n",
       "      <td>...</td>\n",
       "      <td>...</td>\n",
       "      <td>...</td>\n",
       "    </tr>\n",
       "    <tr>\n",
       "      <th>41183</th>\n",
       "      <td>73.0</td>\n",
       "      <td>1</td>\n",
       "      <td>999</td>\n",
       "      <td>0</td>\n",
       "      <td>-1.1</td>\n",
       "      <td>94.767000</td>\n",
       "      <td>-50.8</td>\n",
       "      <td>1.028</td>\n",
       "      <td>4963.6</td>\n",
       "      <td>yes</td>\n",
       "      <td>...</td>\n",
       "      <td>0</td>\n",
       "      <td>0</td>\n",
       "      <td>1</td>\n",
       "      <td>0</td>\n",
       "      <td>0</td>\n",
       "      <td>0</td>\n",
       "      <td>0</td>\n",
       "      <td>0</td>\n",
       "      <td>1</td>\n",
       "      <td>0</td>\n",
       "    </tr>\n",
       "    <tr>\n",
       "      <th>41184</th>\n",
       "      <td>46.0</td>\n",
       "      <td>1</td>\n",
       "      <td>999</td>\n",
       "      <td>0</td>\n",
       "      <td>-1.1</td>\n",
       "      <td>94.767000</td>\n",
       "      <td>-50.8</td>\n",
       "      <td>1.028</td>\n",
       "      <td>4963.6</td>\n",
       "      <td>no</td>\n",
       "      <td>...</td>\n",
       "      <td>0</td>\n",
       "      <td>0</td>\n",
       "      <td>1</td>\n",
       "      <td>0</td>\n",
       "      <td>0</td>\n",
       "      <td>0</td>\n",
       "      <td>0</td>\n",
       "      <td>0</td>\n",
       "      <td>1</td>\n",
       "      <td>0</td>\n",
       "    </tr>\n",
       "    <tr>\n",
       "      <th>41185</th>\n",
       "      <td>56.0</td>\n",
       "      <td>2</td>\n",
       "      <td>999</td>\n",
       "      <td>0</td>\n",
       "      <td>-1.1</td>\n",
       "      <td>93.575615</td>\n",
       "      <td>-50.8</td>\n",
       "      <td>1.028</td>\n",
       "      <td>4963.6</td>\n",
       "      <td>no</td>\n",
       "      <td>...</td>\n",
       "      <td>0</td>\n",
       "      <td>0</td>\n",
       "      <td>1</td>\n",
       "      <td>0</td>\n",
       "      <td>0</td>\n",
       "      <td>0</td>\n",
       "      <td>0</td>\n",
       "      <td>0</td>\n",
       "      <td>1</td>\n",
       "      <td>0</td>\n",
       "    </tr>\n",
       "    <tr>\n",
       "      <th>41186</th>\n",
       "      <td>44.0</td>\n",
       "      <td>1</td>\n",
       "      <td>999</td>\n",
       "      <td>0</td>\n",
       "      <td>-1.1</td>\n",
       "      <td>94.767000</td>\n",
       "      <td>-50.8</td>\n",
       "      <td>1.028</td>\n",
       "      <td>4963.6</td>\n",
       "      <td>yes</td>\n",
       "      <td>...</td>\n",
       "      <td>0</td>\n",
       "      <td>0</td>\n",
       "      <td>1</td>\n",
       "      <td>0</td>\n",
       "      <td>0</td>\n",
       "      <td>0</td>\n",
       "      <td>0</td>\n",
       "      <td>0</td>\n",
       "      <td>1</td>\n",
       "      <td>0</td>\n",
       "    </tr>\n",
       "    <tr>\n",
       "      <th>41187</th>\n",
       "      <td>74.0</td>\n",
       "      <td>3</td>\n",
       "      <td>999</td>\n",
       "      <td>1</td>\n",
       "      <td>-1.1</td>\n",
       "      <td>94.767000</td>\n",
       "      <td>-50.8</td>\n",
       "      <td>1.028</td>\n",
       "      <td>4963.6</td>\n",
       "      <td>no</td>\n",
       "      <td>...</td>\n",
       "      <td>0</td>\n",
       "      <td>0</td>\n",
       "      <td>1</td>\n",
       "      <td>0</td>\n",
       "      <td>0</td>\n",
       "      <td>0</td>\n",
       "      <td>0</td>\n",
       "      <td>1</td>\n",
       "      <td>0</td>\n",
       "      <td>0</td>\n",
       "    </tr>\n",
       "  </tbody>\n",
       "</table>\n",
       "<p>41179 rows × 63 columns</p>\n",
       "</div>"
      ],
      "text/plain": [
       "        age  campaign  pdays  previous  emp.var.rate  cons.price.idx  \\\n",
       "0      56.0         1    999         0           1.1       93.994000   \n",
       "1      57.0         1    999         0           1.1       93.994000   \n",
       "2      37.0         1    999         0           1.1       93.575615   \n",
       "3      40.0         1    999         0           1.1       93.994000   \n",
       "4      56.0         1    999         0           1.1       93.575615   \n",
       "...     ...       ...    ...       ...           ...             ...   \n",
       "41183  73.0         1    999         0          -1.1       94.767000   \n",
       "41184  46.0         1    999         0          -1.1       94.767000   \n",
       "41185  56.0         2    999         0          -1.1       93.575615   \n",
       "41186  44.0         1    999         0          -1.1       94.767000   \n",
       "41187  74.0         3    999         1          -1.1       94.767000   \n",
       "\n",
       "       cons.conf.idx  euribor3m  nr.employed    y  ...  month_oct  month_sep  \\\n",
       "0              -36.4      4.857       5191.0   no  ...          0          0   \n",
       "1              -36.4      4.857       5191.0   no  ...          0          0   \n",
       "2              -36.4      4.857       5191.0   no  ...          0          0   \n",
       "3              -36.4      4.857       5191.0   no  ...          0          0   \n",
       "4              -36.4      4.857       5191.0   no  ...          0          0   \n",
       "...              ...        ...          ...  ...  ...        ...        ...   \n",
       "41183          -50.8      1.028       4963.6  yes  ...          0          0   \n",
       "41184          -50.8      1.028       4963.6   no  ...          0          0   \n",
       "41185          -50.8      1.028       4963.6   no  ...          0          0   \n",
       "41186          -50.8      1.028       4963.6  yes  ...          0          0   \n",
       "41187          -50.8      1.028       4963.6   no  ...          0          0   \n",
       "\n",
       "       day_of_week_fri  day_of_week_mon  day_of_week_thu  day_of_week_tue  \\\n",
       "0                    0                1                0                0   \n",
       "1                    0                1                0                0   \n",
       "2                    0                1                0                0   \n",
       "3                    0                1                0                0   \n",
       "4                    0                1                0                0   \n",
       "...                ...              ...              ...              ...   \n",
       "41183                1                0                0                0   \n",
       "41184                1                0                0                0   \n",
       "41185                1                0                0                0   \n",
       "41186                1                0                0                0   \n",
       "41187                1                0                0                0   \n",
       "\n",
       "       day_of_week_wed  poutcome_failure  poutcome_nonexistent  \\\n",
       "0                    0                 0                     1   \n",
       "1                    0                 0                     1   \n",
       "2                    0                 0                     1   \n",
       "3                    0                 0                     1   \n",
       "4                    0                 0                     1   \n",
       "...                ...               ...                   ...   \n",
       "41183                0                 0                     1   \n",
       "41184                0                 0                     1   \n",
       "41185                0                 0                     1   \n",
       "41186                0                 0                     1   \n",
       "41187                0                 1                     0   \n",
       "\n",
       "       poutcome_success  \n",
       "0                     0  \n",
       "1                     0  \n",
       "2                     0  \n",
       "3                     0  \n",
       "4                     0  \n",
       "...                 ...  \n",
       "41183                 0  \n",
       "41184                 0  \n",
       "41185                 0  \n",
       "41186                 0  \n",
       "41187                 0  \n",
       "\n",
       "[41179 rows x 63 columns]"
      ]
     },
     "execution_count": 42,
     "metadata": {},
     "output_type": "execute_result"
    }
   ],
   "source": [
    "df_one_hot_encoded.drop(columns=['duration'])"
   ]
  },
  {
   "cell_type": "markdown",
   "id": "53c22061",
   "metadata": {},
   "source": [
    "### 2.4 Change 'pdays' columns to 1 and 0 <a name=\"2.4\"></a>"
   ]
  },
  {
   "cell_type": "markdown",
   "id": "ba457f6e",
   "metadata": {},
   "source": [
    "As discussed before; 999 means the customer was not previoustly contacted. pdays gives number of days that passed by after the client was last contacted from a previous campaign. We will change the pday to 1 and 0 where they mean privously contacted and privously not contacted."
   ]
  },
  {
   "cell_type": "code",
   "execution_count": 43,
   "id": "761b0a92",
   "metadata": {},
   "outputs": [
    {
     "data": {
      "text/plain": [
       "0        999\n",
       "1        999\n",
       "2        999\n",
       "3        999\n",
       "4        999\n",
       "        ... \n",
       "41183    999\n",
       "41184    999\n",
       "41185    999\n",
       "41186    999\n",
       "41187    999\n",
       "Name: pdays, Length: 41179, dtype: int64"
      ]
     },
     "execution_count": 43,
     "metadata": {},
     "output_type": "execute_result"
    }
   ],
   "source": [
    "df_one_hot_encoded['pdays']"
   ]
  },
  {
   "cell_type": "code",
   "execution_count": 44,
   "id": "80020295",
   "metadata": {},
   "outputs": [],
   "source": [
    "df_one_hot_encoded['pdays'] = df_one_hot_encoded['pdays'].apply(lambda x: 1 if x<999 else 0)"
   ]
  },
  {
   "cell_type": "code",
   "execution_count": 45,
   "id": "dd3843f1",
   "metadata": {},
   "outputs": [
    {
     "data": {
      "text/plain": [
       "0    39664\n",
       "1     1515\n",
       "Name: pdays, dtype: int64"
      ]
     },
     "execution_count": 45,
     "metadata": {},
     "output_type": "execute_result"
    }
   ],
   "source": [
    "df_one_hot_encoded['pdays'].value_counts()"
   ]
  },
  {
   "cell_type": "markdown",
   "id": "b267914b",
   "metadata": {},
   "source": [
    "### 2.5 Dummy code y column <a name=\"2.5\"></a>"
   ]
  },
  {
   "cell_type": "code",
   "execution_count": 46,
   "id": "d74d8313",
   "metadata": {},
   "outputs": [],
   "source": [
    "df_one_hot_encoded['y'] = df_one_hot_encoded['y'].apply(lambda x: 1 if x=='yes' else 0)"
   ]
  },
  {
   "cell_type": "code",
   "execution_count": 47,
   "id": "5b92aa72",
   "metadata": {},
   "outputs": [
    {
     "data": {
      "text/plain": [
       "0    36540\n",
       "1     4639\n",
       "Name: y, dtype: int64"
      ]
     },
     "execution_count": 47,
     "metadata": {},
     "output_type": "execute_result"
    }
   ],
   "source": [
    "df_one_hot_encoded['y'].value_counts()"
   ]
  },
  {
   "cell_type": "markdown",
   "id": "f0dd6b50",
   "metadata": {},
   "source": [
    "### 2.6 Split the data <a name=\"2.6\"></a>"
   ]
  },
  {
   "cell_type": "code",
   "execution_count": 48,
   "id": "6ada738b",
   "metadata": {},
   "outputs": [],
   "source": [
    "# Create X and Y numpy arrays from randomized data \n",
    "x = np.array(df_one_hot_encoded.loc[:, df_one_hot_encoded.columns != 'y'])\n",
    "y = np.array(df_one_hot_encoded['y'])"
   ]
  },
  {
   "cell_type": "markdown",
   "id": "680f3ad4",
   "metadata": {},
   "source": [
    "%80 for training and %20 for testing"
   ]
  },
  {
   "cell_type": "code",
   "execution_count": 49,
   "id": "d1364c18",
   "metadata": {},
   "outputs": [],
   "source": [
    "# train test split\n",
    "x_train, x_test, y_train, y_test = train_test_split(x, y, test_size=0.2, random_state=0, stratify=y)"
   ]
  },
  {
   "cell_type": "markdown",
   "id": "f114b659",
   "metadata": {},
   "source": [
    "### 2.7 Handle unbalanced data <a name=\"2.7\"></a>"
   ]
  },
  {
   "cell_type": "markdown",
   "id": "e6b86d3f",
   "metadata": {},
   "source": [
    "One approach to addressing imbalanced datasets is to oversample the minority class. The simplest approach involves duplicating examples in the minority class, although these examples don’t add any new information to the model. Instead, new examples can be synthesized from the existing examples. This is a type of data augmentation for the minority class and is referred to as the Synthetic Minority Oversampling Technique, or SMOTE for short."
   ]
  },
  {
   "cell_type": "code",
   "execution_count": 50,
   "id": "1a96c61c",
   "metadata": {},
   "outputs": [
    {
     "name": "stdout",
     "output_type": "stream",
     "text": [
      "(58464, 63)\n"
     ]
    }
   ],
   "source": [
    "# SMOTE train data\n",
    "\n",
    "os = SMOTE(random_state=0)\n",
    "x_train, y_train = os.fit_sample(x_train, y_train)\n",
    "\n",
    "print(x_train.shape)"
   ]
  },
  {
   "cell_type": "code",
   "execution_count": 51,
   "id": "ca9bcf68",
   "metadata": {},
   "outputs": [
    {
     "data": {
      "text/plain": [
       "29232"
      ]
     },
     "execution_count": 51,
     "metadata": {},
     "output_type": "execute_result"
    }
   ],
   "source": [
    "len(y_train[y_train == 0])"
   ]
  },
  {
   "cell_type": "code",
   "execution_count": 52,
   "id": "37f355a1",
   "metadata": {},
   "outputs": [
    {
     "data": {
      "text/plain": [
       "29232"
      ]
     },
     "execution_count": 52,
     "metadata": {},
     "output_type": "execute_result"
    }
   ],
   "source": [
    "len(y_train[y_train == 1])"
   ]
  },
  {
   "cell_type": "code",
   "execution_count": 53,
   "id": "331690fa",
   "metadata": {},
   "outputs": [
    {
     "data": {
      "text/plain": [
       "58464"
      ]
     },
     "execution_count": 53,
     "metadata": {},
     "output_type": "execute_result"
    }
   ],
   "source": [
    "len(y_train)"
   ]
  },
  {
   "cell_type": "markdown",
   "id": "7da245db",
   "metadata": {},
   "source": [
    "After SMOTE we have equal number of 0 and 1 labels."
   ]
  },
  {
   "cell_type": "markdown",
   "id": "c1674a27",
   "metadata": {},
   "source": [
    "## 3. Create Models <a name=\"model\"></a>"
   ]
  },
  {
   "cell_type": "markdown",
   "id": "64ffc202",
   "metadata": {},
   "source": [
    "We have a classification problem. We are trying to classify the subscriptions."
   ]
  },
  {
   "cell_type": "markdown",
   "id": "edf4fbe3",
   "metadata": {},
   "source": [
    "### 3.1 Logistic Regression <a name=\"3.1\"></a>"
   ]
  },
  {
   "cell_type": "markdown",
   "id": "285bcc9a",
   "metadata": {},
   "source": [
    "Logistic regression is a classification algorithm used to find the probability of event success and event failure.\n",
    "Logistic regression is easier to implement, interpret, and very efficient to train."
   ]
  },
  {
   "cell_type": "code",
   "execution_count": 54,
   "id": "16ef4ced",
   "metadata": {},
   "outputs": [],
   "source": [
    "clf = LogisticRegression(random_state=0, max_iter=10000).fit(x_train, y_train)\n",
    "y_pred = clf.predict(x_test)"
   ]
  },
  {
   "cell_type": "markdown",
   "id": "d56de37c",
   "metadata": {},
   "source": [
    "The logistic regression calculates the probabilties of the each class. We tuned the trashold that makes the prediction based on the probabilies."
   ]
  },
  {
   "cell_type": "code",
   "execution_count": 55,
   "id": "8522df96",
   "metadata": {},
   "outputs": [
    {
     "data": {
      "text/plain": [
       "array([[6244, 1064],\n",
       "       [ 112,  816]])"
      ]
     },
     "execution_count": 55,
     "metadata": {},
     "output_type": "execute_result"
    }
   ],
   "source": [
    "cf_matrix = confusion_matrix(y_test, y_pred)\n",
    "cf_matrix"
   ]
  },
  {
   "cell_type": "code",
   "execution_count": 56,
   "id": "16e074c3",
   "metadata": {},
   "outputs": [
    {
     "data": {
      "image/png": "[encoded data removed]",
      "text/plain": [
       "<Figure size 432x288 with 2 Axes>"
      ]
     },
     "metadata": {
      "needs_background": "light"
     },
     "output_type": "display_data"
    }
   ],
   "source": [
    "\n",
    "ax = sns.heatmap(cf_matrix, annot=True, cmap='Blues')\n",
    "\n",
    "ax.set_title('Seaborn Confusion Matrix with labels\\n\\n');\n",
    "ax.set_xlabel('\\nPredicted Values')\n",
    "ax.set_ylabel('Actual Values ');\n",
    "\n",
    "## Ticket labels - List must be in alphabetical order\n",
    "ax.xaxis.set_ticklabels(['False','True'])\n",
    "ax.yaxis.set_ticklabels(['False','True'])\n",
    "\n",
    "## Display the visualization of the Confusion Matrix.\n",
    "plt.show()"
   ]
  },
  {
   "cell_type": "code",
   "execution_count": 57,
   "id": "80661a8c",
   "metadata": {},
   "outputs": [
    {
     "data": {
      "text/plain": [
       "7308"
      ]
     },
     "execution_count": 57,
     "metadata": {},
     "output_type": "execute_result"
    }
   ],
   "source": [
    "len(y_test[y_test == 0])"
   ]
  },
  {
   "cell_type": "code",
   "execution_count": 58,
   "id": "45d515cf",
   "metadata": {},
   "outputs": [
    {
     "data": {
      "text/plain": [
       "928"
      ]
     },
     "execution_count": 58,
     "metadata": {},
     "output_type": "execute_result"
    }
   ],
   "source": [
    "len(y_test[y_test == 1])"
   ]
  },
  {
   "cell_type": "code",
   "execution_count": 59,
   "id": "5282f084",
   "metadata": {},
   "outputs": [
    {
     "name": "stdout",
     "output_type": "stream",
     "text": [
      "\n",
      "Results Summary:\n",
      "\n",
      "True Positive: 816\n",
      "False Positive: 1064\n",
      "True Negative: 6244\n",
      "False Negative: 112\n",
      "\n",
      "Precision: 0.4340425531914894\n",
      "Recall: 0.8793103448275862\n",
      "F1: 0.5811965811965811\n",
      "Accuracy: 0.8572122389509471\n"
     ]
    }
   ],
   "source": [
    "TP = sum(y_pred + y_test == 2) # it is 1, prediction says 1\n",
    "FP = sum(y_pred - y_test == 1) # it is 0, prediction says 1\n",
    "TN = sum(y_pred + y_test == 0) # it is 0, prediction says 0\n",
    "FN = sum(y_pred - y_test == -1) # it is 1, prediction says 0\n",
    "\n",
    "print(\"\\nResults Summary:\\n\")\n",
    "print(\"True Positive:\", TP)\n",
    "print(\"False Positive:\", FP)\n",
    "print(\"True Negative:\", TN)\n",
    "print(\"False Negative:\", FN)\n",
    "\n",
    "accuracy = (TP + TN) / (TP + FP + TN + FN)\n",
    "precision = TP / (TP + FP)\n",
    "recall = TP / (TP + FN)\n",
    "f1 = (2*precision*recall) / (precision + recall)\n",
    "\n",
    "print(\"\\nPrecision:\", precision)\n",
    "print(\"Recall:\", recall)\n",
    "print(\"F1:\", f1)\n",
    "print(\"Accuracy:\", accuracy)"
   ]
  },
  {
   "cell_type": "code",
   "execution_count": 60,
   "id": "f3a366ae",
   "metadata": {},
   "outputs": [
    {
     "name": "stdout",
     "output_type": "stream",
     "text": [
      "ROC AUC for Model: Logistic Regression\n"
     ]
    },
    {
     "data": {
      "image/png": "[encoded data removed]",
      "text/plain": [
       "<Figure size 432x288 with 1 Axes>"
      ]
     },
     "metadata": {
      "needs_background": "light"
     },
     "output_type": "display_data"
    }
   ],
   "source": [
    "roc_auc = roc_auc_score(y_train, clf.predict(x_train))\n",
    "print('ROC AUC for Model: Logistic Regression')\n",
    "fpr, tpr, thresholds = roc_curve(y_test, clf.predict_proba(x_test)[:,1])\n",
    "\n",
    "plt.figure()\n",
    "plt.plot(fpr, tpr, label= '(area = %0.2f)' % roc_auc)\n",
    "plt.plot([0, 1], [0, 1],'r--')\n",
    "plt.xlim([0.0, 1.0])\n",
    "plt.ylim([0.0, 1.05])\n",
    "plt.xlabel('False Positive Rate')\n",
    "plt.ylabel('True Positive Rate')\n",
    "plt.title('Receiver Operating Characteristic')\n",
    "plt.legend(loc=\"lower right\")\n",
    "plt.savefig('_ROC_')\n",
    "plt.show()"
   ]
  },
  {
   "cell_type": "markdown",
   "id": "a368880d",
   "metadata": {},
   "source": [
    "Logistic regression model is created.\n",
    "The accuracy of the model is 0.86. The precision is 0.44 and Recall is 0.88.\n",
    "\n",
    "There were total 928 subscriptions and 7310 non-subscriptions in the test data. \n",
    "820 of the subscriptions are detected with the designed model.\n",
    "We have 1043 false positives. It means there was no subscription but the model detect it as subscription."
   ]
  },
  {
   "cell_type": "markdown",
   "id": "f6607845",
   "metadata": {},
   "source": [
    "### 3.2 Random forest <a name=\"3.2\"></a>"
   ]
  },
  {
   "cell_type": "code",
   "execution_count": 61,
   "id": "34821a1e",
   "metadata": {},
   "outputs": [],
   "source": [
    "# creating a RF classifier\n",
    "clf = RandomForestClassifier(n_estimators = 100) \n",
    " \n",
    "# Training the model on the training dataset\n",
    "# fit function is used to train the model using the training sets as parameters\n",
    "clf.fit(x_train, y_train)\n",
    " \n",
    "# performing predictions on the test dataset\n",
    "y_pred = clf.predict(x_test)"
   ]
  },
  {
   "cell_type": "code",
   "execution_count": 62,
   "id": "1caf3783",
   "metadata": {},
   "outputs": [
    {
     "data": {
      "text/plain": [
       "array([[7073,  235],\n",
       "       [ 503,  425]])"
      ]
     },
     "execution_count": 62,
     "metadata": {},
     "output_type": "execute_result"
    }
   ],
   "source": [
    "cf_matrix = confusion_matrix(y_test, y_pred)\n",
    "cf_matrix"
   ]
  },
  {
   "cell_type": "code",
   "execution_count": 63,
   "id": "28b5926a",
   "metadata": {},
   "outputs": [
    {
     "data": {
      "image/png": "[encoded data removed]",
      "text/plain": [
       "<Figure size 432x288 with 2 Axes>"
      ]
     },
     "metadata": {
      "needs_background": "light"
     },
     "output_type": "display_data"
    }
   ],
   "source": [
    "ax = sns.heatmap(cf_matrix, annot=True, cmap='Blues')\n",
    "\n",
    "ax.set_title('Seaborn Confusion Matrix with labels\\n\\n');\n",
    "ax.set_xlabel('\\nPredicted Values')\n",
    "ax.set_ylabel('Actual Values ');\n",
    "\n",
    "## Ticket labels - List must be in alphabetical order\n",
    "ax.xaxis.set_ticklabels(['False','True'])\n",
    "ax.yaxis.set_ticklabels(['False','True'])\n",
    "\n",
    "## Display the visualization of the Confusion Matrix.\n",
    "plt.show()"
   ]
  },
  {
   "cell_type": "code",
   "execution_count": 64,
   "id": "68a6efdf",
   "metadata": {},
   "outputs": [
    {
     "name": "stdout",
     "output_type": "stream",
     "text": [
      "\n",
      "Results Summary:\n",
      "\n",
      "True Positive: 425\n",
      "False Positive: 235\n",
      "True Negative: 7073\n",
      "False Negative: 503\n",
      "\n",
      "Precision: 0.6439393939393939\n",
      "Recall: 0.4579741379310345\n",
      "F1: 0.535264483627204\n",
      "Accuracy: 0.9103933948518699\n"
     ]
    }
   ],
   "source": [
    "TP = sum(y_pred + y_test == 2) # it is 1, prediction says 1\n",
    "FP = sum(y_pred - y_test == 1) # it is 0, prediction says 1\n",
    "TN = sum(y_pred + y_test == 0) # it is 0, prediction says 0\n",
    "FN = sum(y_pred - y_test == -1) # it is 1, prediction says 0\n",
    "\n",
    "print(\"\\nResults Summary:\\n\")\n",
    "print(\"True Positive:\", TP)\n",
    "print(\"False Positive:\", FP)\n",
    "print(\"True Negative:\", TN)\n",
    "print(\"False Negative:\", FN)\n",
    "\n",
    "accuracy = (TP + TN) / (TP + FP + TN + FN)\n",
    "precision = TP / (TP + FP)\n",
    "recall = TP / (TP + FN)\n",
    "f1 = (2*precision*recall) / (precision + recall)\n",
    "\n",
    "print(\"\\nPrecision:\", precision)\n",
    "print(\"Recall:\", recall)\n",
    "print(\"F1:\", f1)\n",
    "print(\"Accuracy:\", accuracy)"
   ]
  },
  {
   "cell_type": "markdown",
   "id": "c69c8a43",
   "metadata": {},
   "source": [
    "Random Forest model is created. The accuracy of the model is 0.9. The precision is 0.63 and Recall is 0.46.\n",
    "\n",
    "There were total 928 subscriptions and 7310 non-subscriptions in the test data. 427 of the subscriptions are detected with the designed model. We have 241 false positives. \n",
    "\n",
    "The false positive case is lower than the logistic regression."
   ]
  },
  {
   "cell_type": "code",
   "execution_count": 65,
   "id": "af3edf5e",
   "metadata": {},
   "outputs": [
    {
     "name": "stdout",
     "output_type": "stream",
     "text": [
      "ROC AUC for Model: Random Forest\n"
     ]
    },
    {
     "data": {
      "image/png": "[encoded data removed]",
      "text/plain": [
       "<Figure size 432x288 with 1 Axes>"
      ]
     },
     "metadata": {
      "needs_background": "light"
     },
     "output_type": "display_data"
    }
   ],
   "source": [
    "roc_auc = roc_auc_score(y_train, clf.predict(x_train))\n",
    "print('ROC AUC for Model: Random Forest')\n",
    "fpr, tpr, thresholds = roc_curve(y_test, clf.predict_proba(x_test)[:,1])\n",
    "\n",
    "plt.figure()\n",
    "plt.plot(fpr, tpr, label= '(area = %0.2f)' % roc_auc)\n",
    "plt.plot([0, 1], [0, 1],'r--')\n",
    "plt.xlim([0.0, 1.0])\n",
    "plt.ylim([0.0, 1.05])\n",
    "plt.xlabel('False Positive Rate')\n",
    "plt.ylabel('True Positive Rate')\n",
    "plt.title('Receiver Operating Characteristic')\n",
    "plt.legend(loc=\"lower right\")\n",
    "plt.savefig('_ROC_')\n",
    "plt.show()"
   ]
  },
  {
   "cell_type": "markdown",
   "id": "57e2ee26",
   "metadata": {},
   "source": [
    "## 4. Conclusion <a name=\"conclusion\"></a>\n",
    "\n",
    "### Model Evaluation\n",
    "\n",
    "\n",
    "Logistic regression model is created.\n",
    "The accuracy of the model is 0.86. The precision is 0.44 and Recall is 0.88.\n",
    "\n",
    "There were total 928 subscriptions and 7310 non-subscriptions in the test data. \n",
    "820 of the subscriptions are detected with the designed model.\n",
    "We have 1043 false positives. It means there was no subscription but the model detect it as subscription.\n",
    "\n",
    "Random Forest model is created. The accuracy of the model is 0.9. The precision is 0.63 and Recall is 0.46.\n",
    "\n",
    "There were total 928 subscriptions and 7310 non-subscriptions in the test data. 427 of the subscriptions are detected with the designed model. We have 241 false positives. \n",
    "\n",
    "Random Forest's false positive case is lower than the logistic regression.\n",
    "\n",
    "Based on the needs both model can be used. I would choose Random forest since it has higher precision.\n",
    "\n",
    "### Use cases\n",
    "\n",
    "Predicting time to call and adjusting marketing plans benefits both banks and their customers. It improves the efficiency of the bank's telemarketing campaigns, saving time and effort. It prevents some customers from receiving unwanted advertisements and improves customer satisfaction.\n",
    "\n",
    "\n",
    "### List of possible additional data that can help the model accuracy\n",
    "\n",
    "- Credit Score of the customer.\n",
    "- Checking or saving balance of the customer.\n",
    "- The information of usage of any automatric payment method.\n",
    "- The information of usage online banking. \n",
    "- If online banking is active, the frequency of usage, and the tools the customer uses the most. \n",
    "- The location of the customer."
   ]
  }
 ],
 "metadata": {
  "kernelspec": {
   "display_name": "Python 3",
   "language": "python",
   "name": "python3"
  },
  "language_info": {
   "codemirror_mode": {
    "name": "ipython",
    "version": 3
   },
   "file_extension": ".py",
   "mimetype": "text/x-python",
   "name": "python",
   "nbconvert_exporter": "python",
   "pygments_lexer": "ipython3",
   "version": "3.8.3"
  }
 },
 "nbformat": 4,
 "nbformat_minor": 5
}
